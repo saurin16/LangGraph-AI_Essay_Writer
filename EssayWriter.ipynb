{
 "cells": [
  {
   "cell_type": "markdown",
   "id": "911b3b37-3b29-4833-94f2-bfe47af00c83",
   "metadata": {},
   "source": [
    "# Lesson 6: Essay Writer"
   ]
  },
  {
   "cell_type": "code",
   "execution_count": 2,
   "id": "f5762271-8736-4e94-9444-8c92bd0e8074",
   "metadata": {
    "height": 64
   },
   "outputs": [
    {
     "data": {
      "text/plain": [
       "True"
      ]
     },
     "execution_count": 2,
     "metadata": {},
     "output_type": "execute_result"
    }
   ],
   "source": [
    "from dotenv import load_dotenv\n",
    "\n",
    "load_dotenv()"
   ]
  },
  {
   "cell_type": "code",
   "execution_count": 3,
   "id": "d0168aee-bce9-4d60-b827-f86a88187e31",
   "metadata": {
    "height": 149
   },
   "outputs": [],
   "source": [
    "from langgraph.graph import StateGraph, END\n",
    "from typing import TypedDict, Annotated, List\n",
    "import operator\n",
    "from langgraph.checkpoint.sqlite import SqliteSaver\n",
    "from langchain_core.messages import AnyMessage, SystemMessage, HumanMessage, AIMessage, ChatMessage\n",
    "\n",
    "from langgraph.checkpoint.memory import MemorySaver\n",
    "memory = MemorySaver()"
   ]
  },
  {
   "cell_type": "code",
   "execution_count": 4,
   "id": "2589c5b6-6cc2-4594-9a17-dccdcf676054",
   "metadata": {
    "height": 149
   },
   "outputs": [],
   "source": [
    "class AgentState(TypedDict):\n",
    "    task: str\n",
    "    plan: str\n",
    "    draft: str\n",
    "    critique: str\n",
    "    content: List[str]\n",
    "    revision_number: int\n",
    "    max_revisions: int"
   ]
  },
  {
   "cell_type": "code",
   "execution_count": 5,
   "id": "a2ba84ec-c172-4de7-ac55-e3158a531b23",
   "metadata": {
    "height": 64
   },
   "outputs": [],
   "source": [
    "from langchain_openai import ChatOpenAI\n",
    "model = ChatOpenAI(model=\"gpt-3.5-turbo\", temperature=0)"
   ]
  },
  {
   "cell_type": "code",
   "execution_count": 6,
   "id": "876d5092-b8ef-4e38-b4d7-0e80c609bf7a",
   "metadata": {
    "height": 81
   },
   "outputs": [],
   "source": [
    "PLAN_PROMPT = \"\"\"You are an expert writer tasked with writing a high level outline of an essay. \\\n",
    "Write such an outline for the user provided topic. Give an outline of the essay along with any relevant notes \\\n",
    "or instructions for the sections.\"\"\""
   ]
  },
  {
   "cell_type": "code",
   "execution_count": 7,
   "id": "10084a02-2928-4945-9f7c-ad3f5b33caf7",
   "metadata": {
    "height": 166
   },
   "outputs": [],
   "source": [
    "WRITER_PROMPT = \"\"\"You are an essay assistant tasked with writing excellent 5-paragraph essays.\\\n",
    "Generate the best essay possible for the user's request and the initial outline. \\\n",
    "If the user provides critique, respond with a revised version of your previous attempts. \\\n",
    "Utilize all the information below as needed: \n",
    "\n",
    "------\n",
    "\n",
    "{content}\"\"\""
   ]
  },
  {
   "cell_type": "code",
   "execution_count": 8,
   "id": "714d1205-f8fc-4912-b148-2a45da99219c",
   "metadata": {
    "height": 81
   },
   "outputs": [],
   "source": [
    "REFLECTION_PROMPT = \"\"\"You are a teacher grading an essay submission. \\\n",
    "Generate critique and recommendations for the user's submission. \\\n",
    "Provide detailed recommendations, including requests for length, depth, style, etc.\"\"\""
   ]
  },
  {
   "cell_type": "code",
   "execution_count": 9,
   "id": "83588e70-254f-4f83-a510-c8ae81e729b0",
   "metadata": {
    "height": 98
   },
   "outputs": [],
   "source": [
    "RESEARCH_PLAN_PROMPT = \"\"\"You are a researcher charged with providing information that can \\\n",
    "be used when writing the following essay. Generate a list of search queries that will gather \\\n",
    "any relevant information. Only generate 3 queries max.\"\"\"\n"
   ]
  },
  {
   "cell_type": "code",
   "execution_count": 10,
   "id": "6cb3ef4c-58b3-401b-b104-0d51e553d982",
   "metadata": {
    "height": 98
   },
   "outputs": [],
   "source": [
    "RESEARCH_CRITIQUE_PROMPT = \"\"\"You are a researcher charged with providing information that can \\\n",
    "be used when making any requested revisions (as outlined below). \\\n",
    "Generate a list of search queries that will gather any relevant information. Only generate 3 queries max.\"\"\"\n"
   ]
  },
  {
   "cell_type": "code",
   "execution_count": 11,
   "id": "dc3293b7-a50c-43c8-a022-8975e1e444b8",
   "metadata": {
    "height": 81
   },
   "outputs": [
    {
     "name": "stderr",
     "output_type": "stream",
     "text": [
      "C:\\Users\\patel\\AppData\\Roaming\\Python\\Python310\\site-packages\\IPython\\core\\interactiveshell.py:3577: LangChainDeprecationWarning: As of langchain-core 0.3.0, LangChain uses pydantic v2 internally. The langchain_core.pydantic_v1 module was a compatibility shim for pydantic v1, and should no longer be used. Please update the code to import from Pydantic directly.\n",
      "\n",
      "For example, replace imports like: `from langchain_core.pydantic_v1 import BaseModel`\n",
      "with: `from pydantic import BaseModel`\n",
      "or the v1 compatibility namespace if you are working in a code base that has not been fully upgraded to pydantic 2 yet. \tfrom pydantic.v1 import BaseModel\n",
      "\n",
      "  exec(code_obj, self.user_global_ns, self.user_ns)\n"
     ]
    }
   ],
   "source": [
    "from langchain_core.pydantic_v1 import BaseModel\n",
    "\n",
    "class Queries(BaseModel):\n",
    "    queries: List[str]"
   ]
  },
  {
   "cell_type": "code",
   "execution_count": 12,
   "id": "0722c3d4-4cbf-43bf-81b0-50f634c4ce61",
   "metadata": {
    "height": 81
   },
   "outputs": [],
   "source": [
    "from tavily import TavilyClient\n",
    "import os\n",
    "tavily = TavilyClient(api_key=os.environ[\"TAVILY_API_KEY\"])"
   ]
  },
  {
   "cell_type": "code",
   "execution_count": 13,
   "id": "6b2f82fe-3ec4-4917-be51-9fb10d1317fa",
   "metadata": {
    "height": 132
   },
   "outputs": [],
   "source": [
    "def plan_node(state: AgentState):\n",
    "    messages = [\n",
    "        SystemMessage(content=PLAN_PROMPT), \n",
    "        HumanMessage(content=state['task'])\n",
    "    ]\n",
    "    response = model.invoke(messages)\n",
    "    return {\"plan\": response.content}"
   ]
  },
  {
   "cell_type": "code",
   "execution_count": 14,
   "id": "ee0fe1c7-77e2-499c-a2f9-1f739bb6ddf0",
   "metadata": {
    "height": 217
   },
   "outputs": [],
   "source": [
    "def research_plan_node(state):\n",
    "    queries = state.get(\"queries\", [])\n",
    "    content = []\n",
    "\n",
    "    for q in queries:\n",
    "        response = tavily.search(query=q, max_results=2)\n",
    "\n",
    "        # Ensure the response is a list of dictionaries (or handle it properly)\n",
    "        if isinstance(response, list):\n",
    "            for item in response:\n",
    "                if isinstance(item, dict) and 'content' in item:\n",
    "                    content.append(item['content'])\n",
    "                else:\n",
    "                    print(f\"Unexpected item format: {item}\")\n",
    "        else:\n",
    "            print(f\"Unexpected response format: {response}\")\n",
    "\n",
    "    return {**state, 'content': content}\n"
   ]
  },
  {
   "cell_type": "code",
   "execution_count": 15,
   "id": "98f303b1-a4d0-408c-8cc0-515ff980717f",
   "metadata": {
    "height": 302
   },
   "outputs": [],
   "source": [
    "def generation_node(state: AgentState):\n",
    "    content = \"\\n\\n\".join(state['content'] or [])\n",
    "    user_message = HumanMessage(\n",
    "        content=f\"{state['task']}\\n\\nHere is my plan:\\n\\n{state['plan']}\")\n",
    "    messages = [\n",
    "        SystemMessage(\n",
    "            content=WRITER_PROMPT.format(content=content)\n",
    "        ),\n",
    "        user_message\n",
    "        ]\n",
    "    response = model.invoke(messages)\n",
    "    return {\n",
    "        \"draft\": response.content, \n",
    "        \"revision_number\": state.get(\"revision_number\", 1) + 1\n",
    "    }\n"
   ]
  },
  {
   "cell_type": "code",
   "execution_count": 16,
   "id": "bf4dcb93-6298-4cfd-b3ce-61dfac7fb35f",
   "metadata": {
    "height": 132
   },
   "outputs": [],
   "source": [
    "def reflection_node(state: AgentState):\n",
    "    messages = [\n",
    "        SystemMessage(content=REFLECTION_PROMPT), \n",
    "        HumanMessage(content=state['draft'])\n",
    "    ]\n",
    "    response = model.invoke(messages)\n",
    "    return {\"critique\": response.content}"
   ]
  },
  {
   "cell_type": "code",
   "execution_count": 17,
   "id": "932883a4-c722-42bb-aec0-b4f41c5c81a4",
   "metadata": {
    "height": 217
   },
   "outputs": [],
   "source": [
    "def research_critique_node(state: AgentState):\n",
    "    queries = model.with_structured_output(Queries).invoke([\n",
    "        SystemMessage(content=RESEARCH_CRITIQUE_PROMPT),\n",
    "        HumanMessage(content=state['critique'])\n",
    "    ])\n",
    "    content = state['content'] or []\n",
    "    for q in queries.queries:\n",
    "        response = tavily.search(query=q, max_results=2)\n",
    "        for r in response['results']:\n",
    "            content.append(r['content'])\n",
    "    return {\"content\": content}"
   ]
  },
  {
   "cell_type": "code",
   "execution_count": 18,
   "id": "ff362f49-dcf1-4ea1-a86c-e516e9ab897d",
   "metadata": {
    "height": 98
   },
   "outputs": [],
   "source": [
    "def should_continue(state):\n",
    "    if state[\"revision_number\"] > state[\"max_revisions\"]:\n",
    "        return END\n",
    "    return \"reflect\""
   ]
  },
  {
   "cell_type": "code",
   "execution_count": 19,
   "id": "a7e15a20-83d7-434c-8551-bce8dcc32be0",
   "metadata": {
    "height": 30
   },
   "outputs": [],
   "source": [
    "builder = StateGraph(AgentState)"
   ]
  },
  {
   "cell_type": "code",
   "execution_count": 20,
   "id": "54ab2c74-f32e-490c-a85d-932d11444210",
   "metadata": {
    "height": 115
   },
   "outputs": [
    {
     "data": {
      "text/plain": [
       "<langgraph.graph.state.StateGraph at 0x22b9c8a71f0>"
      ]
     },
     "execution_count": 20,
     "metadata": {},
     "output_type": "execute_result"
    }
   ],
   "source": [
    "builder.add_node(\"planner\", plan_node)\n",
    "builder.add_node(\"generate\", generation_node)\n",
    "builder.add_node(\"reflect\", reflection_node)\n",
    "builder.add_node(\"research_plan\", research_plan_node)\n",
    "builder.add_node(\"research_critique\", research_critique_node)"
   ]
  },
  {
   "cell_type": "code",
   "execution_count": 21,
   "id": "a833d3ce-bd31-4319-811d-decff226b970",
   "metadata": {
    "height": 30
   },
   "outputs": [
    {
     "data": {
      "text/plain": [
       "<langgraph.graph.state.StateGraph at 0x22b9c8a71f0>"
      ]
     },
     "execution_count": 21,
     "metadata": {},
     "output_type": "execute_result"
    }
   ],
   "source": [
    "builder.set_entry_point(\"planner\")"
   ]
  },
  {
   "cell_type": "code",
   "execution_count": 22,
   "id": "76e93cce-6eab-4c7c-ac64-e9993fdb30d6",
   "metadata": {
    "height": 115
   },
   "outputs": [
    {
     "data": {
      "text/plain": [
       "<langgraph.graph.state.StateGraph at 0x22b9c8a71f0>"
      ]
     },
     "execution_count": 22,
     "metadata": {},
     "output_type": "execute_result"
    }
   ],
   "source": [
    "builder.add_conditional_edges(\n",
    "    \"generate\", \n",
    "    should_continue, \n",
    "    {END: END, \"reflect\": \"reflect\"}\n",
    ")\n"
   ]
  },
  {
   "cell_type": "code",
   "execution_count": 23,
   "id": "fd2d0990-a932-423f-9ff3-5cada58c5f32",
   "metadata": {
    "height": 98
   },
   "outputs": [
    {
     "data": {
      "text/plain": [
       "<langgraph.graph.state.StateGraph at 0x22b9c8a71f0>"
      ]
     },
     "execution_count": 23,
     "metadata": {},
     "output_type": "execute_result"
    }
   ],
   "source": [
    "builder.add_edge(\"planner\", \"research_plan\")\n",
    "builder.add_edge(\"research_plan\", \"generate\")\n",
    "\n",
    "builder.add_edge(\"reflect\", \"research_critique\")\n",
    "builder.add_edge(\"research_critique\", \"generate\")"
   ]
  },
  {
   "cell_type": "code",
   "execution_count": 24,
   "id": "27cde654-64e2-48bc-80a9-0ed668ccb7dc",
   "metadata": {
    "height": 30
   },
   "outputs": [],
   "source": [
    "graph = builder.compile(checkpointer=memory)"
   ]
  },
  {
   "cell_type": "code",
   "execution_count": 25,
   "id": "6356bf0c",
   "metadata": {},
   "outputs": [
    {
     "name": "stdout",
     "output_type": "stream",
     "text": [
      "Name: pygraphviz\n",
      "Version: 1.14\n",
      "Summary: Python interface to Graphviz\n",
      "Home-page: https://pygraphviz.github.io\n",
      "Author: Manos Renieris\n",
      "Author-email: Aric Hagberg <aric.hagberg@gmail.com>, Dan Schult <dschult@colgate.edu>\n",
      "License: BSD-3-Clause\n",
      "Location: c:\\users\\patel\\anaconda3\\envs\\venv-langraph\\lib\\site-packages\n",
      "Requires: \n",
      "Required-by: \n",
      "Note: you may need to restart the kernel to use updated packages.\n"
     ]
    }
   ],
   "source": [
    "pip show pygraphviz\n"
   ]
  },
  {
   "cell_type": "code",
   "execution_count": 26,
   "id": "4871f644-b131-4065-b7ce-b82c20a41f11",
   "metadata": {
    "height": 64
   },
   "outputs": [
    {
     "data": {
      "image/png": "[encoded data removed]",
      "text/plain": [
       "<IPython.core.display.Image object>"
      ]
     },
     "execution_count": 26,
     "metadata": {},
     "output_type": "execute_result"
    }
   ],
   "source": [
    "from IPython.display import Image\n",
    "\n",
    "Image(graph.get_graph().draw_png())"
   ]
  },
  {
   "cell_type": "code",
   "execution_count": 27,
   "id": "1e0ee023",
   "metadata": {},
   "outputs": [
    {
     "name": "stdout",
     "output_type": "stream",
     "text": [
      "Name: langgraph\n",
      "Version: 0.2.70\n",
      "Summary: Building stateful, multi-actor applications with LLMs\n",
      "Home-page: https://www.github.com/langchain-ai/langgraph\n",
      "Author: \n",
      "Author-email: \n",
      "License: MIT\n",
      "Location: c:\\users\\patel\\anaconda3\\envs\\venv-langraph\\lib\\site-packages\n",
      "Requires: langchain-core, langgraph-checkpoint, langgraph-sdk\n",
      "Required-by: \n",
      "Note: you may need to restart the kernel to use updated packages.\n"
     ]
    }
   ],
   "source": [
    "pip show langgraph"
   ]
  },
  {
   "cell_type": "code",
   "execution_count": 28,
   "id": "c91818b5",
   "metadata": {},
   "outputs": [],
   "source": [
    "def my_node_function(state):\n",
    "    return {\"content\": state.get(\"content\", [])}  # Ensure content key exists\n"
   ]
  },
  {
   "cell_type": "code",
   "execution_count": 29,
   "id": "bf2f59b6",
   "metadata": {},
   "outputs": [
    {
     "name": "stdout",
     "output_type": "stream",
     "text": [
      "{'content': ['test']}\n"
     ]
    }
   ],
   "source": [
    "state = {\"content\": [\"test\"]}\n",
    "print(my_node_function(state))  # Should print {\"content\": [\"test\"]}\n"
   ]
  },
  {
   "cell_type": "code",
   "execution_count": 30,
   "id": "7e8b662d",
   "metadata": {},
   "outputs": [],
   "source": [
    "thread = {\n",
    "    \"configurable\": {\"thread_id\": \"1\"},\n",
    "    \"content\": []  # Ensure 'content' key exists from the start\n",
    "}\n"
   ]
  },
  {
   "cell_type": "code",
   "execution_count": 31,
   "id": "98f3be1d-cc4c-41fa-9863-3e386e88e305",
   "metadata": {
    "height": 149
   },
   "outputs": [
    {
     "name": "stdout",
     "output_type": "stream",
     "text": [
      "Stream Item Type: <class 'langgraph.pregel.io.AddableUpdatesDict'>\n",
      "Stream Item Content: {'planner': {'plan': 'I. Introduction\\n    A. Brief overview of Langchain and Langsmith\\n    B. Thesis statement: Exploring the differences between Langchain and Langsmith\\n\\nII. Langchain\\n    A. Definition and explanation\\n    B. Key features and characteristics\\n    C. Use cases and applications\\n    D. Advantages and disadvantages\\n\\nIII. Langsmith\\n    A. Definition and explanation\\n    B. Key features and characteristics\\n    C. Use cases and applications\\n    D. Advantages and disadvantages\\n\\nIV. Comparison between Langchain and Langsmith\\n    A. Technology stack\\n    B. Scalability\\n    C. Security\\n    D. Performance\\n    E. Adoption and popularity\\n\\nV. Conclusion\\n    A. Recap of main differences between Langchain and Langsmith\\n    B. Implications for the future of blockchain technology\\n    C. Final thoughts and recommendations\\n\\nNotes:\\n- Ensure to provide clear definitions and explanations of both Langchain and Langsmith.\\n- Include specific examples of real-world applications for each technology.\\n- Use data and statistics to support the comparison between the two technologies.\\n- Conclude with insights on the potential impact of Langchain and Langsmith on the blockchain industry.'}}\n",
      "Plan: I. Introduction\n",
      "    A. Brief overview of Langchain and Langsmith\n",
      "    B. Thesis statement: Exploring the differences between Langchain and Langsmith\n",
      "\n",
      "II. Langchain\n",
      "    A. Definition and explanation\n",
      "    B. Key features and characteristics\n",
      "    C. Use cases and applications\n",
      "    D. Advantages and disadvantages\n",
      "\n",
      "III. Langsmith\n",
      "    A. Definition and explanation\n",
      "    B. Key features and characteristics\n",
      "    C. Use cases and applications\n",
      "    D. Advantages and disadvantages\n",
      "\n",
      "IV. Comparison between Langchain and Langsmith\n",
      "    A. Technology stack\n",
      "    B. Scalability\n",
      "    C. Security\n",
      "    D. Performance\n",
      "    E. Adoption and popularity\n",
      "\n",
      "V. Conclusion\n",
      "    A. Recap of main differences between Langchain and Langsmith\n",
      "    B. Implications for the future of blockchain technology\n",
      "    C. Final thoughts and recommendations\n",
      "\n",
      "Notes:\n",
      "- Ensure to provide clear definitions and explanations of both Langchain and Langsmith.\n",
      "- Include specific examples of real-world applications for each technology.\n",
      "- Use data and statistics to support the comparison between the two technologies.\n",
      "- Conclude with insights on the potential impact of Langchain and Langsmith on the blockchain industry.\n",
      "Stream Item Type: <class 'langgraph.pregel.io.AddableUpdatesDict'>\n",
      "Stream Item Content: {'research_plan': {'task': 'what is the difference between langchain and langsmith', 'plan': 'I. Introduction\\n    A. Brief overview of Langchain and Langsmith\\n    B. Thesis statement: Exploring the differences between Langchain and Langsmith\\n\\nII. Langchain\\n    A. Definition and explanation\\n    B. Key features and characteristics\\n    C. Use cases and applications\\n    D. Advantages and disadvantages\\n\\nIII. Langsmith\\n    A. Definition and explanation\\n    B. Key features and characteristics\\n    C. Use cases and applications\\n    D. Advantages and disadvantages\\n\\nIV. Comparison between Langchain and Langsmith\\n    A. Technology stack\\n    B. Scalability\\n    C. Security\\n    D. Performance\\n    E. Adoption and popularity\\n\\nV. Conclusion\\n    A. Recap of main differences between Langchain and Langsmith\\n    B. Implications for the future of blockchain technology\\n    C. Final thoughts and recommendations\\n\\nNotes:\\n- Ensure to provide clear definitions and explanations of both Langchain and Langsmith.\\n- Include specific examples of real-world applications for each technology.\\n- Use data and statistics to support the comparison between the two technologies.\\n- Conclude with insights on the potential impact of Langchain and Langsmith on the blockchain industry.', 'revision_number': 1, 'max_revisions': 2, 'content': []}}\n",
      "Stream Item Type: <class 'langgraph.pregel.io.AddableUpdatesDict'>\n",
      "Stream Item Content: {'generate': {'draft': \"I. Introduction\\nLangchain and Langsmith are two distinct technologies in the blockchain space that offer unique features and capabilities. This essay aims to delve into the disparities between Langchain and Langsmith to provide a comprehensive understanding of their differences.\\n\\nII. Langchain\\nLangchain is a blockchain technology that focuses on enhancing interoperability and communication between different blockchain networks. It enables seamless data exchange and transactions across various blockchains, promoting a more connected and efficient ecosystem. Key features of Langchain include cross-chain compatibility, smart contract support, and decentralized governance. Real-world applications of Langchain include decentralized exchanges, cross-chain asset transfers, and multi-chain dApps. While Langchain offers improved connectivity and flexibility, it may face challenges related to security vulnerabilities and network congestion.\\n\\nIII. Langsmith\\nOn the other hand, Langsmith is a blockchain solution that prioritizes scalability and performance optimization. It is designed to handle high transaction volumes and support complex smart contracts efficiently. Langsmith's key features include sharding, layer 2 solutions, and consensus mechanisms tailored for speed and scalability. Use cases for Langsmith encompass decentralized finance (DeFi) platforms, gaming applications, and enterprise solutions requiring fast and cost-effective transactions. Despite its advantages in scalability and speed, Langsmith may encounter issues related to centralization risks and potential trade-offs in decentralization.\\n\\nIV. Comparison between Langchain and Langsmith\\nIn comparing Langchain and Langsmith, several factors come into play. In terms of technology stack, Langchain emphasizes interoperability protocols, while Langsmith focuses on scalability solutions like sharding. Scalability-wise, Langsmith excels in handling high throughput compared to Langchain. Security measures differ between the two, with Langchain prioritizing cross-chain security and Langsmith emphasizing network performance security. Performance-wise, Langsmith outperforms Langchain in transaction speeds and efficiency. Adoption and popularity may vary based on the specific needs of blockchain projects, with Langsmith gaining traction in applications requiring high throughput and Langchain being favored for cross-chain interactions.\\n\\nV. Conclusion\\nIn conclusion, Langchain and Langsmith represent distinct approaches to blockchain technology, each catering to different needs within the industry. While Langchain enhances interoperability and connectivity, Langsmith prioritizes scalability and performance. Understanding the differences between these technologies is crucial for navigating the evolving landscape of blockchain solutions. The future implications of Langchain and Langsmith lie in their ability to address diverse challenges and drive innovation in the blockchain industry. As blockchain technology continues to evolve, both Langchain and Langsmith are poised to shape the future of decentralized applications and digital ecosystems.\", 'revision_number': 2}}\n",
      "Stream Item Type: <class 'langgraph.pregel.io.AddableUpdatesDict'>\n",
      "Stream Item Content: {'reflect': {'critique': 'Overall, your essay provides a good overview of Langchain and Langsmith, highlighting their key features and differences. Here are some suggestions to enhance your submission:\\n\\n1. **Depth and Analysis**: While you have covered the basic features of Langchain and Langsmith, consider delving deeper into specific examples or case studies to illustrate how these technologies are being used in real-world applications. Providing more in-depth analysis can help strengthen your arguments and provide a richer understanding of the technologies.\\n\\n2. **Technical Details**: Include more technical details about how Langchain and Langsmith operate. Explain the underlying mechanisms of interoperability in Langchain and the sharding techniques in Langsmith. This will demonstrate a deeper understanding of the technologies and showcase your knowledge of blockchain concepts.\\n\\n3. **Security and Risks**: You briefly touched upon security vulnerabilities and centralization risks in Langchain and Langsmith, respectively. Expand on these points by discussing specific examples of security challenges each technology may face and how they are being addressed. This will show a more comprehensive understanding of the potential risks associated with each technology.\\n\\n4. **Comparative Analysis**: While you compared Langchain and Langsmith in terms of technology stack, scalability, security, and performance, consider providing a more detailed analysis of the advantages and disadvantages of each technology in a comparative manner. Highlight specific use cases where one technology may outperform the other and vice versa.\\n\\n5. **Future Outlook**: You briefly mentioned the future implications of Langchain and Langsmith. Expand on this by discussing potential trends in the blockchain industry that could impact the adoption and development of these technologies. Consider exploring how advancements in blockchain technology may influence the evolution of Langchain and Langsmith in the future.\\n\\n6. **Conclusion**: Strengthen your conclusion by summarizing the key points of your essay and reiterating the significance of understanding the disparities between Langchain and Langsmith. Consider offering insights into how these technologies could shape the future of blockchain applications and ecosystems.\\n\\n7. **Length**: Consider expanding on each section to provide more detailed explanations and examples. Aim for a more comprehensive analysis of Langchain and Langsmith to enhance the depth of your essay.\\n\\nBy incorporating these recommendations, you can elevate your essay by providing a more thorough analysis of Langchain and Langsmith, showcasing a deeper understanding of blockchain technologies and their implications in the industry.'}}\n"
     ]
    },
    {
     "name": "stderr",
     "output_type": "stream",
     "text": [
      "c:\\Users\\patel\\anaconda3\\envs\\venv-langraph\\lib\\site-packages\\langchain_openai\\chat_models\\base.py:1362: UserWarning: Received a Pydantic BaseModel V1 schema. This is not supported by method=\"json_schema\". Please use method=\"function_calling\" or specify schema via JSON Schema or Pydantic V2 BaseModel. Overriding to method=\"function_calling\".\n",
      "  warnings.warn(\n",
      "c:\\Users\\patel\\anaconda3\\envs\\venv-langraph\\lib\\site-packages\\langchain_openai\\chat_models\\base.py:1375: UserWarning: Cannot use method='json_schema' with model gpt-3.5-turbo since it doesn't support OpenAI's Structured Output API. You can see supported models here: https://platform.openai.com/docs/guides/structured-outputs#supported-models. To fix this warning, set `method='function_calling'. Overriding to method='function_calling'.\n",
      "  warnings.warn(\n"
     ]
    },
    {
     "name": "stdout",
     "output_type": "stream",
     "text": [
      "Stream Item Type: <class 'langgraph.pregel.io.AddableUpdatesDict'>\n",
      "Stream Item Content: {'research_critique': {'content': ['Here’s the deal: LangChain is like building the entire car, while LangSmith is your diagnostic tool to ensure that car runs smoothly. When it comes to practical application, I always say: “Show, don’t tell.” I’ve used both LangChain and LangSmith extensively, and I’ve found that they complement each other beautifully when you’re building and fine-tuning LLM-based workflows. Having spent countless hours building and debugging LLM-based systems, I’ve learned that using LangChain and LangSmith effectively requires a few smart strategies. I often use LangChain to build my pipelines and LangSmith to monitor and debug them. Start with LangChain to build your pipeline, and then bring in LangSmith to ensure it performs as expected.', 'If you’re responsible for ensuring your AI models work in production, or you need to frequently debug and monitor your pipelines, Langsmith is your go-to tool. In short, while Langchain excels at managing and scaling model workflows, Langsmith is designed for those times when you need deep visibility and control over large, complex AI systems in production. But if you’re managing a complex AI pipeline with multiple models that need debugging and orchestrating, Langsmith’s capabilities become essential. If you’re debugging complex AI models or managing large-scale workflows with multiple moving parts, Langsmith’s advanced debugging and orchestration features will be indispensable. Additionally, if you’re working on cross-platform model deployments — say, running models on-prem and in the cloud simultaneously — Langsmith offers better orchestration and monitoring tools to handle the complexity.', 'Interoperability: LangChain components expose a standard interface, allowing developers to easily swap them for each other. If you implement', 'Interoperability with Langfuse SDKs · Add non-Langchain related observations to the trace. · Group multiple Langchain runs into a single trace.', \"Security Overview · langchain-ai/langchain · GitHub Security: langchain-ai/langchain If you're building applications that access external resources like file systems, APIs or databases, consider speaking with your company's security team to determine how to best design and secure your applications. Please report security vulnerabilities associated with the LangChain open source projects by visiting the following link: This will be decided done on a case by case basis, but likely will not be eligible for a bounty as the code is already documented with guidelines for developers that should be followed for making their application secure. Please report security vulnerabilities associated with LangSmith by email to security@langchain.dev. For any other security concerns, please contact us at security@langchain.dev.\", \"Build a simple LLM application with chat models and prompt templates How to use tools in a chain How to use few shot examples in chat models How to add ad-hoc tool calling capability to LLMs and Chat Models How to use prompting alone (no tool calling) to do extraction How to migrate from legacy LangChain agents to LangGraph How to use LangChain with different Pydantic versions How to use chat models to call tools How to pass tool outputs to chat models How to use few-shot prompting with tool calling If you're building applications that access external resources like file systems, APIs or databases, consider speaking with your company's security team to determine how to best design and secure your applications. Please report security vulnerabilities associated with LangSmith by email to security@langchain.dev.\"]}}\n",
      "Stream Item Type: <class 'langgraph.pregel.io.AddableUpdatesDict'>\n",
      "Stream Item Content: {'generate': {'draft': \"**Essay:**\\n\\n**Title: Exploring the Differences Between LangChain and LangSmith**\\n\\n**I. Introduction**\\n\\nLangChain and LangSmith are two essential tools in the realm of AI and machine learning workflows. LangChain serves as the foundation for building pipelines, while LangSmith acts as the diagnostic tool to ensure the smooth functioning of these pipelines. This essay delves into the distinctions between LangChain and LangSmith, shedding light on their unique features and applications.\\n\\n**II. LangChain**\\n\\nLangChain is a robust platform used for constructing pipelines in LLM-based workflows. It offers a seamless way to build and manage these workflows efficiently. Key features of LangChain include its ability to create complex AI systems, manage multiple models simultaneously, and facilitate interoperability through a standard interface. Real-world applications of LangChain include managing cross-platform model deployments and orchestrating large-scale workflows with precision.\\n\\n**III. LangSmith**\\n\\nOn the other hand, LangSmith is designed for monitoring and debugging AI systems in production. It provides deep visibility and control over complex AI pipelines, making it indispensable for those managing intricate workflows with multiple moving parts. LangSmith's advanced debugging and orchestration features are crucial for ensuring the optimal performance of AI models in production environments.\\n\\n**IV. Comparison between LangChain and LangSmith**\\n\\n- **Technology Stack:** LangChain focuses on building and scaling model workflows, while LangSmith emphasizes monitoring and debugging capabilities.\\n- **Scalability:** LangChain excels in managing and scaling workflows, whereas LangSmith offers better orchestration and monitoring tools for complex systems.\\n- **Security:** LangChain and LangSmith have specific security protocols in place, with LangChain emphasizing reporting vulnerabilities associated with its open-source projects and LangSmith directing security concerns to a dedicated email.\\n- **Performance:** LangChain's performance lies in its ability to build pipelines efficiently, while LangSmith enhances performance through monitoring and debugging functionalities.\\n- **Adoption and Popularity:** Both LangChain and LangSmith have gained traction in the AI community, with LangChain being favored for its pipeline-building capabilities and LangSmith for its monitoring and debugging features.\\n\\n**V. Conclusion**\\n\\nIn conclusion, LangChain and LangSmith play distinct yet complementary roles in the AI and machine learning landscape. Understanding the differences between these tools is crucial for leveraging their strengths effectively. As the demand for sophisticated AI systems continues to rise, the combined use of LangChain and LangSmith is poised to shape the future of AI workflows, offering enhanced efficiency and performance in the blockchain industry.\", 'revision_number': 3}}\n"
     ]
    }
   ],
   "source": [
    "# Task parameters\n",
    "params = {\n",
    "    'task': \"what is the difference between langchain and langsmith\",\n",
    "    \"max_revisions\": 2,\n",
    "    \"revision_number\": 1,\n",
    "}\n",
    "\n",
    "# Iterate over the stream\n",
    "for s in graph.stream(params, thread):\n",
    "    # Print type and structure of stream item 's'\n",
    "    print(f\"Stream Item Type: {type(s)}\")\n",
    "    \n",
    "    # If 's' is of type 'AddableUpdatesDict', treat it like a dictionary\n",
    "    if isinstance(s, dict):\n",
    "        print(f\"Stream Item Content: {s}\")\n",
    "        \n",
    "        # Accessing the 'planner' key content (if exists)\n",
    "        if 'planner' in s:\n",
    "            print(f\"Plan: {s['planner']['plan']}\")\n",
    "    else:\n",
    "        # Handle other data types here (e.g., if 's' is a string or another type)\n",
    "        print(f\"Raw Stream Item: {s}\")\n"
   ]
  },
  {
   "cell_type": "code",
   "execution_count": null,
   "id": "0ad8a6cc-65d4-4ce7-87aa-4e67d7c23d7b",
   "metadata": {
    "height": 30
   },
   "outputs": [],
   "source": []
  },
  {
   "cell_type": "markdown",
   "id": "4d1664b5-75e0-46b7-9c2b-4ac9171f4597",
   "metadata": {},
   "source": [
    "## Essay Writer Interface"
   ]
  },
  {
   "cell_type": "code",
   "execution_count": 32,
   "id": "3b19c193",
   "metadata": {},
   "outputs": [],
   "source": [
    "import warnings\n",
    "warnings.filterwarnings(\"ignore\")\n",
    "\n",
    "from helper import ewriter, writer_gui"
   ]
  },
  {
   "cell_type": "code",
   "execution_count": 34,
   "id": "f0ebfa79-c7fc-4aaa-b668-64e5b6cede80",
   "metadata": {
    "height": 64
   },
   "outputs": [
    {
     "name": "stdout",
     "output_type": "stream",
     "text": [
      "* Running on local URL:  http://127.0.0.1:7861\n",
      "\n",
      "To create a public link, set `share=True` in `launch()`.\n"
     ]
    },
    {
     "data": {
      "text/html": [
       "<div><iframe src=\"http://127.0.0.1:7861/\" width=\"100%\" height=\"500\" allow=\"autoplay; camera; microphone; clipboard-read; clipboard-write;\" frameborder=\"0\" allowfullscreen></iframe></div>"
      ],
      "text/plain": [
       "<IPython.core.display.HTML object>"
      ]
     },
     "metadata": {},
     "output_type": "display_data"
    },
    {
     "name": "stderr",
     "output_type": "stream",
     "text": [
      "Traceback (most recent call last):\n",
      "  File \"c:\\Users\\patel\\anaconda3\\envs\\venv-langraph\\lib\\site-packages\\gradio\\queueing.py\", line 625, in process_events\n",
      "    response = await route_utils.call_process_api(\n",
      "  File \"c:\\Users\\patel\\anaconda3\\envs\\venv-langraph\\lib\\site-packages\\gradio\\route_utils.py\", line 322, in call_process_api\n",
      "    output = await app.get_blocks().process_api(\n",
      "  File \"c:\\Users\\patel\\anaconda3\\envs\\venv-langraph\\lib\\site-packages\\gradio\\blocks.py\", line 2088, in process_api\n",
      "    result = await self.call_function(\n",
      "  File \"c:\\Users\\patel\\anaconda3\\envs\\venv-langraph\\lib\\site-packages\\gradio\\blocks.py\", line 1635, in call_function\n",
      "    prediction = await anyio.to_thread.run_sync(  # type: ignore\n",
      "  File \"c:\\Users\\patel\\anaconda3\\envs\\venv-langraph\\lib\\site-packages\\anyio\\to_thread.py\", line 56, in run_sync\n",
      "    return await get_async_backend().run_sync_in_worker_thread(\n",
      "  File \"c:\\Users\\patel\\anaconda3\\envs\\venv-langraph\\lib\\site-packages\\anyio\\_backends\\_asyncio.py\", line 2461, in run_sync_in_worker_thread\n",
      "    return await future\n",
      "  File \"c:\\Users\\patel\\anaconda3\\envs\\venv-langraph\\lib\\site-packages\\anyio\\_backends\\_asyncio.py\", line 962, in run\n",
      "    result = context.run(func, *args)\n",
      "  File \"c:\\Users\\patel\\anaconda3\\envs\\venv-langraph\\lib\\site-packages\\gradio\\utils.py\", line 883, in wrapper\n",
      "    response = f(*args, **kwargs)\n",
      "  File \"c:\\Users\\patel\\Desktop\\IIT\\SEM 4\\SPM\\virtualLab2\\helper.py\", line 310, in updt_disp\n",
      "    s_thread_ts = state.config['configurable']['thread_ts']\n",
      "KeyError: 'thread_ts'\n",
      "Traceback (most recent call last):\n",
      "  File \"c:\\Users\\patel\\anaconda3\\envs\\venv-langraph\\lib\\site-packages\\gradio\\queueing.py\", line 625, in process_events\n",
      "    response = await route_utils.call_process_api(\n",
      "  File \"c:\\Users\\patel\\anaconda3\\envs\\venv-langraph\\lib\\site-packages\\gradio\\route_utils.py\", line 322, in call_process_api\n",
      "    output = await app.get_blocks().process_api(\n",
      "  File \"c:\\Users\\patel\\anaconda3\\envs\\venv-langraph\\lib\\site-packages\\gradio\\blocks.py\", line 2088, in process_api\n",
      "    result = await self.call_function(\n",
      "  File \"c:\\Users\\patel\\anaconda3\\envs\\venv-langraph\\lib\\site-packages\\gradio\\blocks.py\", line 1635, in call_function\n",
      "    prediction = await anyio.to_thread.run_sync(  # type: ignore\n",
      "  File \"c:\\Users\\patel\\anaconda3\\envs\\venv-langraph\\lib\\site-packages\\anyio\\to_thread.py\", line 56, in run_sync\n",
      "    return await get_async_backend().run_sync_in_worker_thread(\n",
      "  File \"c:\\Users\\patel\\anaconda3\\envs\\venv-langraph\\lib\\site-packages\\anyio\\_backends\\_asyncio.py\", line 2461, in run_sync_in_worker_thread\n",
      "    return await future\n",
      "  File \"c:\\Users\\patel\\anaconda3\\envs\\venv-langraph\\lib\\site-packages\\anyio\\_backends\\_asyncio.py\", line 962, in run\n",
      "    result = context.run(func, *args)\n",
      "  File \"c:\\Users\\patel\\anaconda3\\envs\\venv-langraph\\lib\\site-packages\\gradio\\utils.py\", line 883, in wrapper\n",
      "    response = f(*args, **kwargs)\n",
      "  File \"c:\\Users\\patel\\Desktop\\IIT\\SEM 4\\SPM\\virtualLab2\\helper.py\", line 310, in updt_disp\n",
      "    s_thread_ts = state.config['configurable']['thread_ts']\n",
      "KeyError: 'thread_ts'\n",
      "Traceback (most recent call last):\n",
      "  File \"c:\\Users\\patel\\anaconda3\\envs\\venv-langraph\\lib\\site-packages\\gradio\\queueing.py\", line 625, in process_events\n",
      "    response = await route_utils.call_process_api(\n",
      "  File \"c:\\Users\\patel\\anaconda3\\envs\\venv-langraph\\lib\\site-packages\\gradio\\route_utils.py\", line 322, in call_process_api\n",
      "    output = await app.get_blocks().process_api(\n",
      "  File \"c:\\Users\\patel\\anaconda3\\envs\\venv-langraph\\lib\\site-packages\\gradio\\blocks.py\", line 2088, in process_api\n",
      "    result = await self.call_function(\n",
      "  File \"c:\\Users\\patel\\anaconda3\\envs\\venv-langraph\\lib\\site-packages\\gradio\\blocks.py\", line 1635, in call_function\n",
      "    prediction = await anyio.to_thread.run_sync(  # type: ignore\n",
      "  File \"c:\\Users\\patel\\anaconda3\\envs\\venv-langraph\\lib\\site-packages\\anyio\\to_thread.py\", line 56, in run_sync\n",
      "    return await get_async_backend().run_sync_in_worker_thread(\n",
      "  File \"c:\\Users\\patel\\anaconda3\\envs\\venv-langraph\\lib\\site-packages\\anyio\\_backends\\_asyncio.py\", line 2461, in run_sync_in_worker_thread\n",
      "    return await future\n",
      "  File \"c:\\Users\\patel\\anaconda3\\envs\\venv-langraph\\lib\\site-packages\\anyio\\_backends\\_asyncio.py\", line 962, in run\n",
      "    result = context.run(func, *args)\n",
      "  File \"c:\\Users\\patel\\anaconda3\\envs\\venv-langraph\\lib\\site-packages\\gradio\\utils.py\", line 883, in wrapper\n",
      "    response = f(*args, **kwargs)\n",
      "  File \"c:\\Users\\patel\\Desktop\\IIT\\SEM 4\\SPM\\virtualLab2\\helper.py\", line 310, in updt_disp\n",
      "    s_thread_ts = state.config['configurable']['thread_ts']\n",
      "KeyError: 'thread_ts'\n"
     ]
    }
   ],
   "source": [
    "MultiAgent = ewriter()\n",
    "app = writer_gui(MultiAgent.graph)\n",
    "app.launch()"
   ]
  },
  {
   "cell_type": "code",
   "execution_count": null,
   "id": "592b5e62-a203-433c-92a0-3783f490cde1",
   "metadata": {
    "height": 30
   },
   "outputs": [],
   "source": []
  },
  {
   "cell_type": "code",
   "execution_count": null,
   "id": "14fa923c-7e4f-42d1-965f-0f8ccd50fbd7",
   "metadata": {
    "height": 30
   },
   "outputs": [],
   "source": []
  },
  {
   "cell_type": "code",
   "execution_count": null,
   "id": "570c6245-2837-4ac5-983b-95f61f3ac10d",
   "metadata": {
    "height": 30
   },
   "outputs": [],
   "source": []
  },
  {
   "cell_type": "code",
   "execution_count": null,
   "id": "6b910915-b087-4d35-afff-0ec30a5852f1",
   "metadata": {
    "height": 30
   },
   "outputs": [],
   "source": []
  },
  {
   "cell_type": "code",
   "execution_count": null,
   "id": "c4feb6cc-5129-4a99-bb45-851bc07b5709",
   "metadata": {
    "height": 30
   },
   "outputs": [],
   "source": []
  },
  {
   "cell_type": "code",
   "execution_count": null,
   "id": "e85a02b4-96cc-4b01-8792-397a774eb499",
   "metadata": {
    "height": 30
   },
   "outputs": [],
   "source": []
  },
  {
   "cell_type": "code",
   "execution_count": null,
   "id": "ae8b86a6-5e20-4252-b1d8-009b8318345a",
   "metadata": {
    "height": 30
   },
   "outputs": [],
   "source": []
  },
  {
   "cell_type": "code",
   "execution_count": null,
   "id": "af925917-b746-48c9-ac74-62fefbe5246c",
   "metadata": {
    "height": 30
   },
   "outputs": [],
   "source": []
  },
  {
   "cell_type": "code",
   "execution_count": null,
   "id": "d5048f2c-4d82-49a5-9cb1-918d78b39f7b",
   "metadata": {
    "height": 30
   },
   "outputs": [],
   "source": []
  },
  {
   "cell_type": "code",
   "execution_count": null,
   "id": "393f7f1f-68b4-4462-bfa5-b6472ef1304a",
   "metadata": {
    "height": 30
   },
   "outputs": [],
   "source": []
  },
  {
   "cell_type": "code",
   "execution_count": null,
   "id": "43ac0aa9-baa7-4b58-889d-2118cc00c6b5",
   "metadata": {
    "height": 30
   },
   "outputs": [],
   "source": []
  },
  {
   "cell_type": "code",
   "execution_count": null,
   "id": "ed6098b9-e2a9-4767-8cb5-346db835c8d2",
   "metadata": {
    "height": 30
   },
   "outputs": [],
   "source": []
  },
  {
   "cell_type": "code",
   "execution_count": null,
   "id": "2d23cf2a-a179-44dc-9ae3-2eddda4b67b4",
   "metadata": {
    "height": 30
   },
   "outputs": [],
   "source": []
  },
  {
   "cell_type": "code",
   "execution_count": null,
   "id": "14a6005b-0221-4f5e-9be0-0580c1d03126",
   "metadata": {
    "height": 30
   },
   "outputs": [],
   "source": []
  },
  {
   "cell_type": "code",
   "execution_count": null,
   "id": "41c1ec12-f1c8-41ae-bb3e-5f28997b9b99",
   "metadata": {
    "height": 30
   },
   "outputs": [],
   "source": []
  },
  {
   "cell_type": "code",
   "execution_count": null,
   "id": "5c8c07d7-be17-4c17-82c5-6fe1db028b8b",
   "metadata": {
    "height": 30
   },
   "outputs": [],
   "source": []
  },
  {
   "cell_type": "code",
   "execution_count": null,
   "id": "04592c8e-1cfe-4b26-93b5-caf1ed1e7d24",
   "metadata": {
    "height": 30
   },
   "outputs": [],
   "source": []
  },
  {
   "cell_type": "code",
   "execution_count": null,
   "id": "6181c4a9-0e71-4f67-b71f-18a225e37202",
   "metadata": {
    "height": 30
   },
   "outputs": [],
   "source": []
  },
  {
   "cell_type": "code",
   "execution_count": null,
   "id": "e1c478a9-7bfe-49e2-8a7d-1536271f45a6",
   "metadata": {
    "height": 30
   },
   "outputs": [],
   "source": []
  },
  {
   "cell_type": "code",
   "execution_count": null,
   "id": "0a6d6771-3fad-4f37-9b32-45b36ad85c59",
   "metadata": {
    "height": 30
   },
   "outputs": [],
   "source": []
  },
  {
   "cell_type": "code",
   "execution_count": null,
   "id": "a3629eb3-655d-467a-b413-63f547c2de08",
   "metadata": {
    "height": 30
   },
   "outputs": [],
   "source": []
  },
  {
   "cell_type": "code",
   "execution_count": null,
   "id": "f772f251-2b61-4d10-97c5-61cef9207a76",
   "metadata": {
    "height": 30
   },
   "outputs": [],
   "source": []
  },
  {
   "cell_type": "code",
   "execution_count": null,
   "id": "0de92979-7ac5-4a7c-91c1-10806b7d529c",
   "metadata": {
    "height": 30
   },
   "outputs": [],
   "source": []
  },
  {
   "cell_type": "code",
   "execution_count": null,
   "id": "479c4325-f625-4bbf-9d74-cc58f10763f2",
   "metadata": {
    "height": 30
   },
   "outputs": [],
   "source": []
  },
  {
   "cell_type": "code",
   "execution_count": null,
   "id": "c4070be7-72da-42f9-a25d-8a6c628788b8",
   "metadata": {
    "height": 30
   },
   "outputs": [],
   "source": []
  },
  {
   "cell_type": "code",
   "execution_count": null,
   "id": "9289efbe-7033-4f32-8482-2039c5f9db90",
   "metadata": {
    "height": 30
   },
   "outputs": [],
   "source": []
  },
  {
   "cell_type": "code",
   "execution_count": null,
   "id": "25e480bb-22ab-4acb-a42c-71da3d04a5b1",
   "metadata": {
    "height": 30
   },
   "outputs": [],
   "source": []
  },
  {
   "cell_type": "code",
   "execution_count": null,
   "id": "90dea35c-7483-4b3d-b5e3-76eb3a0fe536",
   "metadata": {
    "height": 30
   },
   "outputs": [],
   "source": []
  },
  {
   "cell_type": "code",
   "execution_count": null,
   "id": "e9ac5730-a9d5-4ea4-8546-ebcb265cf1da",
   "metadata": {
    "height": 30
   },
   "outputs": [],
   "source": []
  },
  {
   "cell_type": "code",
   "execution_count": null,
   "id": "96e1f28b-46d8-4bcd-b2e4-730376ee7ccf",
   "metadata": {
    "height": 30
   },
   "outputs": [],
   "source": []
  },
  {
   "cell_type": "code",
   "execution_count": null,
   "id": "22ac7020-b4f4-4bd2-a875-ccee93f83d83",
   "metadata": {
    "height": 30
   },
   "outputs": [],
   "source": []
  },
  {
   "cell_type": "code",
   "execution_count": null,
   "id": "61f79eb9-d1c9-44b0-9efd-a8f9b380332a",
   "metadata": {
    "height": 30
   },
   "outputs": [],
   "source": []
  },
  {
   "cell_type": "code",
   "execution_count": null,
   "id": "ce509206-bde1-43e4-a88f-8a565539d357",
   "metadata": {
    "height": 30
   },
   "outputs": [],
   "source": []
  },
  {
   "cell_type": "code",
   "execution_count": null,
   "id": "bdba1590-9e7b-4c0f-9492-81a07d286c55",
   "metadata": {
    "height": 30
   },
   "outputs": [],
   "source": []
  },
  {
   "cell_type": "code",
   "execution_count": null,
   "id": "aa8fe4a8-5372-479d-b248-af7a295c86c1",
   "metadata": {
    "height": 30
   },
   "outputs": [],
   "source": []
  },
  {
   "cell_type": "code",
   "execution_count": null,
   "id": "7514720a-14bc-4552-ade5-fa03f86f4c73",
   "metadata": {
    "height": 30
   },
   "outputs": [],
   "source": []
  }
 ],
 "metadata": {
  "kernelspec": {
   "display_name": "venv-langraph",
   "language": "python",
   "name": "python3"
  },
  "language_info": {
   "codemirror_mode": {
    "name": "ipython",
    "version": 3
   },
   "file_extension": ".py",
   "mimetype": "text/x-python",
   "name": "python",
   "nbconvert_exporter": "python",
   "pygments_lexer": "ipython3",
   "version": "3.10.16"
  }
 },
 "nbformat": 4,
 "nbformat_minor": 5
}
